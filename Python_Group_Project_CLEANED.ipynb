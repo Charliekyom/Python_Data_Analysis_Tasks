{
 "cells": [
  {
   "cell_type": "code",
   "execution_count": null,
   "id": "58b69ad4",
   "metadata": {},
   "outputs": [],
   "source": [
    "# Assignment Task 1\n",
    "# Import the Songs records data from \n",
    "# the Song_records MS Excel File and performing the necessary Data Cleaning process."
   ]
  },
  {
   "cell_type": "code",
   "execution_count": null,
   "id": "6ed2f494",
   "metadata": {},
   "outputs": [],
   "source": []
  },
  {
   "cell_type": "markdown",
   "id": "52b6cf2d",
   "metadata": {},
   "source": [
    "### Import all the necessary modules for data analysis"
   ]
  },
  {
   "cell_type": "code",
   "execution_count": null,
   "id": "cd9a785f",
   "metadata": {},
   "outputs": [],
   "source": [
    "!pip install pandas_datareader\n",
    "!pip install openpyxl"
   ]
  },
  {
   "cell_type": "code",
   "execution_count": null,
   "id": "305455b5-d8ff-4c05-af50-1b8a6a86450f",
   "metadata": {},
   "outputs": [],
   "source": [
    "import warnings\n",
    "warnings.simplefilter(\"ignore\")\n",
    "\n",
    "# Clears all variable values previously set\n",
    "from IPython import get_ipython\n",
    "get_ipython().magic('reset -sf')"
   ]
  },
  {
   "cell_type": "code",
   "execution_count": null,
   "id": "8895ac73",
   "metadata": {},
   "outputs": [],
   "source": [
    "# Provides ways to work with large multidimensional arrays\n",
    "import numpy as np \n",
    "# Allows for further data manipulation and analysis\n",
    "import pandas as pd\n",
    "\n",
    "from pandas_datareader import data as web # Reads stock data \n",
    "import matplotlib.pyplot as plt # Plotting\n",
    "import matplotlib.dates as mdates # Styling dates\n",
    "%matplotlib inline"
   ]
  },
  {
   "cell_type": "code",
   "execution_count": null,
   "id": "59b7a3c0-41e6-490e-8971-f4deea7904c5",
   "metadata": {},
   "outputs": [],
   "source": []
  },
  {
   "cell_type": "markdown",
   "id": "ffe88153-96af-4bb1-856d-21b3cae55bc6",
   "metadata": {},
   "source": [
    "### Import Song records from the MS Excel for analysis"
   ]
  },
  {
   "cell_type": "code",
   "execution_count": null,
   "id": "behind-watershed",
   "metadata": {},
   "outputs": [],
   "source": [
    "# Reading excel file into dataframe\n",
    "df = pd.read_excel(\"python_songs_data_v2.xlsx\")"
   ]
  },
  {
   "cell_type": "code",
   "execution_count": null,
   "id": "69ac5f2b-17d1-427d-a50b-9b0da35e464b",
   "metadata": {},
   "outputs": [],
   "source": [
    "df"
   ]
  },
  {
   "cell_type": "code",
   "execution_count": null,
   "id": "7f9eae85-f2f5-44cd-8b39-0f902650fd77",
   "metadata": {},
   "outputs": [],
   "source": [
    "df.head()"
   ]
  },
  {
   "cell_type": "code",
   "execution_count": null,
   "id": "04cb660e-19d2-4f9e-9d76-1c4ba08a9eb8",
   "metadata": {},
   "outputs": [],
   "source": [
    "df.info()"
   ]
  },
  {
   "cell_type": "code",
   "execution_count": null,
   "id": "academic-transition",
   "metadata": {},
   "outputs": [],
   "source": [
    "# Confirming if the dataframe is empty\n",
    "df.empty"
   ]
  },
  {
   "cell_type": "code",
   "execution_count": null,
   "id": "8abb01e7",
   "metadata": {},
   "outputs": [],
   "source": [
    "# Checking the first 10 records of the dataframe\n",
    "df.head(10)"
   ]
  },
  {
   "cell_type": "code",
   "execution_count": null,
   "id": "chinese-crowd",
   "metadata": {},
   "outputs": [],
   "source": [
    "# Checking how many records and columns we imported\n",
    "df.shape"
   ]
  },
  {
   "cell_type": "code",
   "execution_count": null,
   "id": "upper-stewart",
   "metadata": {},
   "outputs": [],
   "source": [
    "# Listing all the column headers of our dataframe\n",
    "print(list(df.columns))"
   ]
  },
  {
   "cell_type": "code",
   "execution_count": null,
   "id": "705d5293",
   "metadata": {},
   "outputs": [],
   "source": [
    "# Use the info() function to check the data structure of your dataframe\n",
    "df.info()"
   ]
  },
  {
   "cell_type": "code",
   "execution_count": null,
   "id": "f6d1b20f",
   "metadata": {},
   "outputs": [],
   "source": [
    "df.isnull().sum()"
   ]
  },
  {
   "cell_type": "code",
   "execution_count": null,
   "id": "b0682f07",
   "metadata": {},
   "outputs": [],
   "source": [
    "# [int8: -128 to 127]; [unint8: 0 to 255]; [int16: -32,768 to 32,767]; [uint16: 0 to 65,537]\n",
    "# [int32: -2,147,483,648 to-2,147,483,647]; [unint32: 0 to 4,294,967,296]; \n",
    "# [int64: -9,223,372,036,854,776 to -9,223,372,036,854,775]; [uint64: 0 to 18,446,744,073,709,551,616]\n",
    "# [float8, float16, float32, float32, float64] follows similar pattern but no unsigned float [unfloat]"
   ]
  },
  {
   "cell_type": "code",
   "execution_count": null,
   "id": "7b205c55",
   "metadata": {},
   "outputs": [],
   "source": [
    "df.head()"
   ]
  },
  {
   "cell_type": "code",
   "execution_count": null,
   "id": "0b033d0f",
   "metadata": {},
   "outputs": [],
   "source": [
    "#Converting all the columns into the appropriate datatype\n",
    "\n",
    "string_list = ['title', 'artist', 'album']\n",
    "for header in string_list:\n",
    "    df[header] =  df[header].astype('string')\n",
    "    \n",
    "integer_list = ['song_id', 'year_released']\n",
    "for header in integer_list:\n",
    "    df[header] =  df[header].astype('int16')\n",
    "\n",
    "float_list = ['duration', 'tempo','loudness']\n",
    "for header in float_list:\n",
    "    df[header] =  df[header].astype('float16')\n",
    "    \n",
    "df.info()"
   ]
  },
  {
   "cell_type": "code",
   "execution_count": null,
   "id": "31f98db2",
   "metadata": {},
   "outputs": [],
   "source": [
    "# Songs with year of release equal to zero are erroneous, using pandas inbuilt function, \n",
    "# how many songs have incorrect year of release?\n",
    "\n",
    "incorrect_yr = (df['year_released'] == 0)\n",
    "\n",
    "# Count the number of rows where 'year_released' is 0\n",
    "count_incorrect_yr = df.loc[incorrect_yr, 'year_released'].count()\n",
    "\n",
    "print(\"Count of songs with incorrect year_released:\", count_incorrect_yr)\n"
   ]
  },
  {
   "cell_type": "code",
   "execution_count": null,
   "id": "3cd64fe6",
   "metadata": {},
   "outputs": [],
   "source": [
    "# The loudness of a song must be less than zero. The closer the value is to zero, \n",
    "# the louder the song. How many songs have loudness greater than or equal to zero?\n",
    "\n",
    "incorrect_loudness = (df['loudness'] >= 0)\n",
    "\n",
    "# Count the number of rows where 'loudness' is >= 0\n",
    "count_incorrect_loudness = df.loc[incorrect_loudness, 'loudness'].count()\n",
    "\n",
    "print(\"Count of songs with incorrect loudness:\", count_incorrect_loudness)\n"
   ]
  },
  {
   "cell_type": "code",
   "execution_count": null,
   "id": "645d3287",
   "metadata": {},
   "outputs": [],
   "source": [
    "# The tempo of a song cannot be zero, How many songs have a tempo of zero?\n",
    "\n",
    "incorrect_tempo = (df['tempo'] == 0)\n",
    "\n",
    "# Count the number of rows where 'tempo' is = 0\n",
    "count_incorrect_tempo = df.loc[incorrect_tempo, 'tempo'].count()\n",
    "\n",
    "print(\"Count of songs with incorrect tempo:\", count_incorrect_tempo)\n"
   ]
  },
  {
   "cell_type": "code",
   "execution_count": null,
   "id": "1435e538",
   "metadata": {},
   "outputs": [],
   "source": [
    "# Using the panda's drop function, delete all the songs with year = 0\n",
    "\n",
    "# Check the first five records to be deleted\n",
    "df[incorrect_yr].head()\n"
   ]
  },
  {
   "cell_type": "code",
   "execution_count": null,
   "id": "2b4fcb6e-9e01-4b1c-b3de-32f5de6a87fe",
   "metadata": {},
   "outputs": [],
   "source": [
    "# Deleting the songs with year = 0\n",
    "df.drop(df[incorrect_yr].index, inplace=True)\n",
    "\n",
    "# Confirming that no such record exists\n",
    "df[incorrect_yr].head()"
   ]
  },
  {
   "cell_type": "code",
   "execution_count": null,
   "id": "bce4399b-5bf3-46ed-b72b-dc47240fdfac",
   "metadata": {},
   "outputs": [],
   "source": [
    "# 10000 - 5309 = 4691, which is correct\n",
    "df.shape"
   ]
  },
  {
   "cell_type": "code",
   "execution_count": null,
   "id": "b31da698-2682-4e8b-bfa7-ec864ed68289",
   "metadata": {},
   "outputs": [],
   "source": [
    "check_incorrect_tempo = (df['tempo'] == 0)\n",
    "\n",
    "# Count the remaining number of rows where 'tempo' is = 0\n",
    "count_check_incorrect_tempo = df.loc[check_incorrect_tempo, 'tempo'].count()\n",
    "\n",
    "count_check_incorrect_tempo\n"
   ]
  },
  {
   "cell_type": "code",
   "execution_count": null,
   "id": "8389c22f",
   "metadata": {},
   "outputs": [],
   "source": [
    "# Using the panda's drop function, delete all the songs with tempo = 0\n",
    "\n",
    "df.drop(df[incorrect_tempo].index, inplace=True)\n",
    "\n",
    "# Confirming that no such record exists\n",
    "df[incorrect_tempo].head()"
   ]
  },
  {
   "cell_type": "code",
   "execution_count": null,
   "id": "1c622d5a",
   "metadata": {},
   "outputs": [],
   "source": [
    "# Using the panda's drop function, delete all the songs with loudness >= 0\n",
    "\n",
    "df.drop(df[incorrect_loudness].index, inplace=True)\n",
    "\n",
    "# Confirming that no such record exists\n",
    "df[incorrect_loudness].head() "
   ]
  },
  {
   "cell_type": "code",
   "execution_count": null,
   "id": "9f5e04b4",
   "metadata": {},
   "outputs": [],
   "source": [
    "#create a pivot table from dataframe by modifying the below code but using:\n",
    "# index = 'year_released', values = loudness, aggfunc='mean'\n",
    "\n",
    "df.pivot_table(index='year_released',values='loudness',  aggfunc='sum') "
   ]
  },
  {
   "cell_type": "code",
   "execution_count": null,
   "id": "9cda5f7e",
   "metadata": {},
   "outputs": [],
   "source": [
    "# Using matplotlib, draw a line graph of the year against the average loudness\n",
    "pivot_data = pd.pivot_table(df,index='year_released',values='loudness',  aggfunc='mean')\n",
    "\n",
    "plt.plot(pivot_data, color='green', marker='*', linestyle='-')\n",
    "plt.xlabel('Years')\n",
    "plt.ylabel('Loudness')\n",
    "plt.title('Songs average loudness over the years')\n",
    "plt.show()\n"
   ]
  },
  {
   "cell_type": "code",
   "execution_count": null,
   "id": "c0d81467",
   "metadata": {},
   "outputs": [],
   "source": [
    "# Save the graph as a picture in your folder\n",
    "loudness_per_year_graph = 'average_loudness_by_year.png'\n",
    "plt.savefig(loudness_per_year_graph)\n"
   ]
  },
  {
   "cell_type": "code",
   "execution_count": null,
   "id": "divided-thong",
   "metadata": {},
   "outputs": [],
   "source": [
    "df.shape"
   ]
  },
  {
   "cell_type": "code",
   "execution_count": null,
   "id": "mathematical-lincoln",
   "metadata": {},
   "outputs": [],
   "source": [
    "# Save the clean song datafram as an excel file\n",
    "\n",
    "file_name  = 'cleaned_songs_data_v2.xlsx'\n",
    "df.to_excel(file_name, index = False)\n"
   ]
  },
  {
   "cell_type": "code",
   "execution_count": null,
   "id": "entertaining-award",
   "metadata": {},
   "outputs": [],
   "source": []
  },
  {
   "cell_type": "code",
   "execution_count": null,
   "id": "9b179962",
   "metadata": {},
   "outputs": [],
   "source": [
    "## Assignment 2\n",
    "## The link below contains the Wikipedia list of countries by electricity production\n",
    "# https://en.wikipedia.org/wiki/List_of_countries_by_electricity_production"
   ]
  },
  {
   "cell_type": "code",
   "execution_count": null,
   "id": "81a2df39",
   "metadata": {},
   "outputs": [],
   "source": []
  },
  {
   "cell_type": "code",
   "execution_count": null,
   "id": "4ae3626c",
   "metadata": {},
   "outputs": [],
   "source": [
    "# (a) Use the numpy and pandas modules to read the production by source table \n",
    "#     and clean up the data"
   ]
  },
  {
   "cell_type": "code",
   "execution_count": null,
   "id": "322e0c39",
   "metadata": {},
   "outputs": [],
   "source": [
    "CEP = pd.read_html(\"https://en.wikipedia.org/wiki/List_of_countries_by_electricity_production\")\n",
    "CEP"
   ]
  },
  {
   "cell_type": "code",
   "execution_count": null,
   "id": "180e59f0",
   "metadata": {},
   "outputs": [],
   "source": [
    "CEP = pd.read_html(\"https://en.wikipedia.org/wiki/List_of_countries_by_electricity_production\")[1]\n",
    "CEP.head()"
   ]
  },
  {
   "cell_type": "code",
   "execution_count": null,
   "id": "79b157c2-630f-42d7-9f30-5af0a071cf77",
   "metadata": {},
   "outputs": [],
   "source": [
    "CEP.columns = CEP.columns.droplevel()\n",
    "CEP.head()"
   ]
  },
  {
   "cell_type": "code",
   "execution_count": null,
   "id": "427cebd8-31e0-4cf7-87a4-01a711847628",
   "metadata": {},
   "outputs": [],
   "source": [
    "# Rename columns with rename function\n",
    "CEP = CEP.rename(columns={\"Total (TWh)\": \"Total_(TWh)\", \"Oil*\": \"Oil\", \"Bio.\": \"Bio\", \\\n",
    "                        \"Geo.\": \"Geo\"})\n",
    "CEP.head()"
   ]
  },
  {
   "cell_type": "code",
   "execution_count": null,
   "id": "5458d4d6-9763-4ab4-b98c-6a6b057539c7",
   "metadata": {},
   "outputs": [],
   "source": [
    "CEP.shape"
   ]
  },
  {
   "cell_type": "code",
   "execution_count": null,
   "id": "b1fa33a1-c335-4897-9f30-5d36b1f40c30",
   "metadata": {},
   "outputs": [],
   "source": [
    "CEP.info()"
   ]
  },
  {
   "cell_type": "code",
   "execution_count": null,
   "id": "98da7fd2",
   "metadata": {},
   "outputs": [],
   "source": [
    "# Change data type per column\n",
    "\n",
    "string_column = ['Location']\n",
    "\n",
    "for column in string_column:\n",
    "   CEP[column] =CEP[column].astype (\"string\")\n",
    "    \n",
    "number_columns = ['Coal', 'Gas', 'Hydro', 'Nuclear',\n",
    "       'Wind', 'Solar', 'Oil', 'Bio', 'Geo']\n",
    "\n",
    "for column in number_columns:\n",
    "    CEP[column] = CEP[column].astype (\"float32\")\n",
    "\n",
    "CEP.info()"
   ]
  },
  {
   "cell_type": "code",
   "execution_count": null,
   "id": "02acb45e",
   "metadata": {},
   "outputs": [],
   "source": [
    "# Identifying the row with wrong data for cleaning\n",
    "CEP[61:62]"
   ]
  },
  {
   "cell_type": "code",
   "execution_count": null,
   "id": "68b413aa-ddfe-43b7-a2f0-55bcd39496e8",
   "metadata": {},
   "outputs": [],
   "source": [
    "CEP ['Total_(TWh)'] = CEP ['Total_(TWh)'].astype (str)\n",
    "CEP['Total_(TWh)'] = CEP['Total_(TWh)'].str.replace(r\"41[2]\",\"41\")\n",
    "CEP[61:62]"
   ]
  },
  {
   "cell_type": "code",
   "execution_count": null,
   "id": "a8cf4490-6d04-4f49-9fcd-7f6baf6f7a92",
   "metadata": {},
   "outputs": [],
   "source": [
    "CEP['Total_(TWh)'] =  CEP['Total_(TWh)'].astype('float32')\n",
    "CEP.info()"
   ]
  },
  {
   "cell_type": "code",
   "execution_count": null,
   "id": "f3b7df4f-b1a2-43ff-b0fa-b59120add250",
   "metadata": {},
   "outputs": [],
   "source": [
    "# (b) Do any exploratory analysis on the data and present your results"
   ]
  },
  {
   "cell_type": "code",
   "execution_count": null,
   "id": "f73d12f4-20d8-4dec-868c-35d63a2b0dd9",
   "metadata": {},
   "outputs": [],
   "source": [
    "CEP.describe().transpose()"
   ]
  },
  {
   "cell_type": "code",
   "execution_count": null,
   "id": "ed77d8fe-893c-4cbf-bae7-ebc857bb918d",
   "metadata": {},
   "outputs": [],
   "source": [
    "# Checking the number of unique values per column\n",
    "CEP.nunique()"
   ]
  },
  {
   "cell_type": "code",
   "execution_count": null,
   "id": "06cfc9da-d95e-42f5-b7a4-b8de6bb0aa35",
   "metadata": {},
   "outputs": [],
   "source": [
    "# Checking for missing values\n",
    "CEP.isnull().sum()"
   ]
  },
  {
   "cell_type": "code",
   "execution_count": null,
   "id": "a2083d51-3304-4b72-8fe4-747c1533b63a",
   "metadata": {},
   "outputs": [],
   "source": [
    "# Creating a copy of cleaned data as best practice\n",
    "duplicate_data = CEP.copy()\n",
    "duplicate_data"
   ]
  },
  {
   "cell_type": "code",
   "execution_count": null,
   "id": "d8cd809a-55dc-4eac-9ec4-f43bafac6582",
   "metadata": {},
   "outputs": [],
   "source": [
    "duplicate_data = duplicate_data.drop(0)\n",
    "duplicate_data"
   ]
  },
  {
   "cell_type": "code",
   "execution_count": null,
   "id": "18739516-8f1c-4399-a116-7be0c7c952a0",
   "metadata": {},
   "outputs": [],
   "source": [
    "# Sorting data values in 'Coal' column by descending order\n",
    "duplicate_data.sort_values('Coal', ascending = False)\n"
   ]
  },
  {
   "cell_type": "code",
   "execution_count": null,
   "id": "e3cfb0c0-7774-47bf-9253-e95e4b53486f",
   "metadata": {},
   "outputs": [],
   "source": [
    "# Getting the countries with highest production of electricity\n",
    "Top_CEP = duplicate_data.nlargest(10, 'Total_(TWh)')\n",
    "Top_CEP"
   ]
  },
  {
   "cell_type": "code",
   "execution_count": null,
   "id": "2b36cd58-4fc9-485c-82c6-a4e9b779e4ef",
   "metadata": {},
   "outputs": [],
   "source": [
    "# Get the top 5 rows based on the total energy column\n",
    "Top_CEP = duplicate_data.nlargest(5, 'Total_(TWh)')\n",
    "\n",
    "# Plotting the bar graphplt.figure(figsize=(10,6))\n",
    "plt.bar(Top_CEP['Location'], Top_CEP['Total_(TWh)'], color='skyblue')\n",
    "\n",
    "# Adding labels and title\n",
    "plt.xlabel('Location')\n",
    "plt.ylabel('Total (TWh)')\n",
    "plt.title('Top 5 Locations by Total Energy Consumption')\n",
    "\n",
    "# Rotating x-axis labels for better visibility\n",
    "plt.xticks(rotation=45, ha='right')\n",
    "\n",
    "# Display the plot\n",
    "plt.tight_layout()\n",
    "plt.show()"
   ]
  },
  {
   "cell_type": "code",
   "execution_count": null,
   "id": "3a88165f-bc7e-46b5-9a08-b8e623b15623",
   "metadata": {},
   "outputs": [],
   "source": [
    "# Getting the countries with lowest production of electricity\n",
    "Low_CEP = duplicate_data.nsmallest(10, 'Total_(TWh)')\n",
    "Low_CEP"
   ]
  },
  {
   "cell_type": "code",
   "execution_count": null,
   "id": "13fe5492-27b0-417c-9e36-e72c528d4e8f",
   "metadata": {},
   "outputs": [],
   "source": [
    "# Get the top 5 rows based on the total energy column\n",
    "Low_CEP = duplicate_data.nsmallest(5, 'Total_(TWh)')\n",
    "\n",
    "# Plotting the bar graphplt.figure(figsize=(10,6))\n",
    "plt.bar(Low_CEP['Location'], Low_CEP['Total_(TWh)'], color='cyan')\n",
    "\n",
    "# Adding labels and title\n",
    "plt.xlabel('Location')\n",
    "plt.ylabel('Total (TWh)')\n",
    "plt.title('Least 5 Locations by Total Energy Consumption')\n",
    "\n",
    "# Rotating x-axis labels for better visibility\n",
    "plt.xticks(rotation=45, ha='right')\n",
    "\n",
    "# Display the plot\n",
    "plt.tight_layout()\n",
    "plt.show()"
   ]
  },
  {
   "cell_type": "code",
   "execution_count": null,
   "id": "877eaa6c-dbab-4264-81e2-aa900544bea4",
   "metadata": {},
   "outputs": [],
   "source": [
    "duplicate_data.groupby('Location')['Total_(TWh)'].value_counts()"
   ]
  },
  {
   "cell_type": "code",
   "execution_count": null,
   "id": "1dd915db-47cf-4a20-ba50-ddf8e82efb7b",
   "metadata": {},
   "outputs": [],
   "source": []
  },
  {
   "cell_type": "code",
   "execution_count": null,
   "id": "9378fc76-cb1c-4faa-8bee-dfb20cd8c1f4",
   "metadata": {},
   "outputs": [],
   "source": [
    "## Assignment 3"
   ]
  },
  {
   "cell_type": "code",
   "execution_count": null,
   "id": "be013128-ef59-410d-9000-0a6ed9adc26a",
   "metadata": {},
   "outputs": [],
   "source": [
    "#Tasks\n",
    "#1. Create a Database in PostgreSQL named \"Airline_Dataset_db\"\n",
    "#2. Create an appropriate table structure named \"airline_data_tb\" and \n",
    "# import the entire data from the \"Airline Dataset Updated v2.csv\" file\n",
    "#3 Import the airline table into Python as pandas dataframes.\n"
   ]
  },
  {
   "cell_type": "code",
   "execution_count": null,
   "id": "5200d274-9ab8-4125-b279-40630b7bfa9b",
   "metadata": {},
   "outputs": [],
   "source": [
    "# 1st Step: Install the Postgresql module\n",
    "!pip install psycopg2"
   ]
  },
  {
   "cell_type": "code",
   "execution_count": null,
   "id": "18308389-7c8d-446e-925f-0c2652c23bea",
   "metadata": {},
   "outputs": [],
   "source": [
    "# 2nd Step: Create a variable to mask and store password\n",
    "import getpass\n",
    "\n",
    "# Prompt the user for a password\n",
    "passwd = getpass.getpass('Enter your PostgreSQL database password: ')"
   ]
  },
  {
   "cell_type": "code",
   "execution_count": null,
   "id": "5a9e3c2a-ca79-46e1-b135-2968d9bf401a",
   "metadata": {},
   "outputs": [],
   "source": [
    "# 3rd Step: Setup and connect to PosgreSQL database import psycopg2 as pgconnect\n",
    "\n",
    "pg_setup = pgconnect.connect(host='localhost',\n",
    "                            database='Airline_Dataset_db',\n",
    "                            user='postgres',\n",
    "                            #port=5432\n",
    "                            password=passwd)\n",
    "# uses default port:5432\n",
    "print('Python connection to PostgreSQL database was successful!')"
   ]
  },
  {
   "cell_type": "code",
   "execution_count": null,
   "id": "0af33f82-07f4-4eb0-9610-1216cfdc1be7",
   "metadata": {},
   "outputs": [],
   "source": [
    "# 4th Step: Write a SQL query to extract the required data\n",
    "query = '''\n",
    "SELECT *\n",
    "FROM airline_data_tb;\n",
    "'''"
   ]
  },
  {
   "cell_type": "code",
   "execution_count": null,
   "id": "80e5259b-f5d9-473b-913e-a4eee5885671",
   "metadata": {},
   "outputs": [],
   "source": [
    "# 5th Step: Executing the sql query using the mysql_engine created\n",
    "# import the required table as pandas datafram\n",
    "postgresql_df = pd.read_sql(query,pg_setup)\n",
    "postgresql_df.head()"
   ]
  },
  {
   "cell_type": "code",
   "execution_count": null,
   "id": "f878b36d-4369-46f5-8eac-8e3953af3e47",
   "metadata": {},
   "outputs": [],
   "source": [
    "# Step 6: Close the db_setup connections as it is advisable\n",
    "pg_setup.close()\n",
    "print('PostgreSQL Database connection close successfully')"
   ]
  },
  {
   "cell_type": "code",
   "execution_count": null,
   "id": "95cbb536-7df2-40c2-bcbf-f0967157deaa",
   "metadata": {},
   "outputs": [],
   "source": [
    "postgresql_df.shape"
   ]
  },
  {
   "cell_type": "code",
   "execution_count": null,
   "id": "68017aac-5f50-488d-a23d-4096d817b6a9",
   "metadata": {},
   "outputs": [],
   "source": [
    "postgresql_df.info()"
   ]
  },
  {
   "cell_type": "code",
   "execution_count": null,
   "id": "b085fc53-cd16-4720-bc57-b7b0ba6cb578",
   "metadata": {},
   "outputs": [],
   "source": [
    "# List of column names in data original dataframe\n",
    "print(list(postgresql_df.columns))"
   ]
  },
  {
   "cell_type": "code",
   "execution_count": null,
   "id": "30d51bce-c0cd-4746-a542-e4b9c507e215",
   "metadata": {},
   "outputs": [],
   "source": [
    "# New dataframe with selected columns for analysis\n",
    "new_df = postgresql_df.drop(['airport_country_code', 'airport_continent', 'arrival_airport'], axis = 1)\n",
    "new_df.head()"
   ]
  },
  {
   "cell_type": "code",
   "execution_count": null,
   "id": "ec85196f-9c37-4042-86bc-700865545768",
   "metadata": {},
   "outputs": [],
   "source": [
    "new_df.shape"
   ]
  },
  {
   "cell_type": "code",
   "execution_count": null,
   "id": "63d80dbe-f541-4288-8230-fe05fecf8787",
   "metadata": {},
   "outputs": [],
   "source": [
    "# Convert age column to int8\n",
    "new_df['age'] = new_df['age'].astype ('int8')"
   ]
  },
  {
   "cell_type": "code",
   "execution_count": null,
   "id": "d6ee96e3-7e04-476d-897b-89be2dccdf16",
   "metadata": {},
   "outputs": [],
   "source": [
    "# Convert date column to datetime\n",
    "new_df['departure_date'] = pd.to_datetime(new_df['departure_date'])"
   ]
  },
  {
   "cell_type": "code",
   "execution_count": null,
   "id": "51ce1016-4e5c-49f7-a958-3d91de2d3c09",
   "metadata": {},
   "outputs": [],
   "source": [
    "# Convert string columns to string\n",
    "string_list = ['passenger_id', 'first_name', 'last_name', 'gender', 'nationality', 'airport_name', \n",
    "               'country_name', 'continents', 'pilot_name', 'flight_status']\n",
    "\n",
    "for header in string_list:\n",
    "    new_df[header] =  new_df[header].astype('string')\n",
    "    \n",
    "new_df.info()"
   ]
  },
  {
   "cell_type": "code",
   "execution_count": null,
   "id": "33df7f3a-47a4-4416-ae4a-911df5023752",
   "metadata": {},
   "outputs": [],
   "source": [
    "new_df.head()"
   ]
  },
  {
   "cell_type": "code",
   "execution_count": null,
   "id": "be7c7e35-52dd-4e71-828e-5d81286e6ece",
   "metadata": {},
   "outputs": [],
   "source": [
    "# Overview of data\n",
    "new_df.describe(include='all').transpose()"
   ]
  },
  {
   "cell_type": "code",
   "execution_count": null,
   "id": "64185f85-4353-45da-a4aa-da080cd499e8",
   "metadata": {},
   "outputs": [],
   "source": []
  },
  {
   "cell_type": "code",
   "execution_count": null,
   "id": "dd4f9f23-3ffd-40a6-8de4-7d93fc172067",
   "metadata": {},
   "outputs": [],
   "source": [
    "# Analysis 1\n",
    "status_counts = new_df['flight_status'].value_counts()\n",
    "print(status_counts)\n"
   ]
  },
  {
   "cell_type": "code",
   "execution_count": null,
   "id": "acb7e1c5-b59d-4c1e-bf9b-9f1ea6434023",
   "metadata": {},
   "outputs": [],
   "source": [
    "# Visualizing flight status\n",
    "status_counts.plot(kind='bar', color='skyblue')\n",
    "plt.title('Number of flights by status')\n",
    "plt.xlabel('Flight Status')\n",
    "plt.ylabel('Count')\n",
    "plt.show()\n"
   ]
  },
  {
   "cell_type": "code",
   "execution_count": null,
   "id": "96423184-51d4-435f-b768-33e983c3a06c",
   "metadata": {},
   "outputs": [],
   "source": [
    "# Extract the year and store it in a new column\n",
    "new_df['departure_year'] = new_df['departure_date'].dt.year\n",
    "new_df['departure_year'].nunique()"
   ]
  },
  {
   "cell_type": "code",
   "execution_count": null,
   "id": "dac7fdfd-2ed8-4779-95b1-f2207b3b72e2",
   "metadata": {},
   "outputs": [],
   "source": [
    "new_df['departure_year'].loc[2]"
   ]
  },
  {
   "cell_type": "code",
   "execution_count": null,
   "id": "75879bee-11a0-456a-9845-52ffcd8bbd88",
   "metadata": {},
   "outputs": [],
   "source": [
    "# Get the unique number of continents\n",
    "new_df['continents'].nunique()"
   ]
  },
  {
   "cell_type": "code",
   "execution_count": null,
   "id": "372d7348-689b-42fe-aff3-a42fd1ef28f0",
   "metadata": {},
   "outputs": [],
   "source": [
    "# Analysis 2\n",
    "# Get the unique values in the continents column\n",
    "unique_continents = new_df['continents'].unique()\n",
    "print(list(unique_continents))"
   ]
  },
  {
   "cell_type": "code",
   "execution_count": null,
   "id": "9311c012-a702-4e66-952a-939d113f8149",
   "metadata": {},
   "outputs": [],
   "source": [
    "# Analysis 3\n",
    "# Filter for the top 5 canceled flight \n",
    "canceled_flights = new_df[new_df['flight_status'] == 'Cancelled']\n",
    "\n",
    "# Group by airport_name, country_name, and continents, and count the number of canceled flights\n",
    "canceled_counts = (\n",
    "    canceled_flights.groupby(['airport_name', 'country_name', 'continents'])\n",
    "    .size()\n",
    "    .reset_index(name='cancel_count')\n",
    ")\n",
    "\n",
    "# Sort by the count of canceled flights in descending order\n",
    "top_canceled = canceled_counts.sort_values(by='cancel_count', ascending=False).head(5)\n",
    "\n",
    "# Display the top 5 airports with the highest canceled flights\n",
    "print(top_canceled)\n"
   ]
  },
  {
   "cell_type": "code",
   "execution_count": null,
   "id": "3a40f20f-77f0-43d0-800f-16768bad0e24",
   "metadata": {},
   "outputs": [],
   "source": []
  },
  {
   "cell_type": "code",
   "execution_count": null,
   "id": "9f3dfdf9-110b-4c3a-9586-ef64136a5b70",
   "metadata": {},
   "outputs": [],
   "source": [
    "flights_by_pilot = new_df['pilot_name'].value_counts()\n",
    "print(flights_by_pilot)\n"
   ]
  },
  {
   "cell_type": "code",
   "execution_count": null,
   "id": "af9199a6-3a24-4d68-a2eb-b852511f0807",
   "metadata": {},
   "outputs": [],
   "source": []
  },
  {
   "cell_type": "code",
   "execution_count": null,
   "id": "42a75850-7062-4c0b-bb36-8424806b1f18",
   "metadata": {},
   "outputs": [],
   "source": [
    "# Analysis 4\n",
    "# Get the most patronized airport \n",
    "# The airport name that appears most frequently.\n",
    "popular_airport_name = new_df['airport_name'].value_counts().idxmax()\n",
    "\n",
    "# Filter the DataFrame to get the country name for the most popular airport\n",
    "popular_airport_row = new_df[new_df['airport_name'] == popular_airport_name].iloc[0]\n",
    "\n",
    "# Extract the airport name and country name\n",
    "airport_country = popular_airport_row['country_name']\n",
    "\n",
    "# Print the result\n",
    "print(f\"Most patronized airport is {popular_airport_name}, in {airport_country}\")\n"
   ]
  },
  {
   "cell_type": "code",
   "execution_count": null,
   "id": "676889ac-b175-4f5c-85c1-e86390b9ec50",
   "metadata": {},
   "outputs": [],
   "source": []
  },
  {
   "cell_type": "code",
   "execution_count": null,
   "id": "fcb3c8bb-6e86-42f4-950d-ab3e0764b931",
   "metadata": {},
   "outputs": [],
   "source": [
    "# Analysis 5\n",
    "# Filter the DataFrame for \"On Time\" flight status\n",
    "on_time_flights = new_df[new_df['flight_status'] == \"On Time\"]\n",
    "\n",
    "# Find the most popular airport from the filtered DataFrame\n",
    "popular_airport_name = on_time_flights['airport_name'].value_counts().idxmax()\n",
    "\n",
    "# Filter the DataFrame to get the country name for the most popular airport\n",
    "popular_airport_row = on_time_flights[on_time_flights['airport_name'] == popular_airport_name].iloc[0]\n",
    "\n",
    "# Extract the airport name and country name\n",
    "popular_airport_country = popular_airport_row['country_name']\n",
    "\n",
    "# Print the result\n",
    "print(f\"Airport with Maximum On Time Flights is {popular_airport_name}, in {popular_airport_country}\")\n"
   ]
  },
  {
   "cell_type": "code",
   "execution_count": null,
   "id": "57278ca4-6db2-4a10-b407-c661aea1e228",
   "metadata": {},
   "outputs": [],
   "source": []
  },
  {
   "cell_type": "code",
   "execution_count": null,
   "id": "3d7d1d20-4ea3-4300-adac-d1d54ef672e1",
   "metadata": {},
   "outputs": [],
   "source": [
    "# Analysis 6\n",
    "# Count the number of occurrences for each gender\n",
    "gender_counts = new_df['gender'].value_counts()\n",
    "\n",
    "plt.figure(figsize=(5, 6))\n",
    "plt.pie(gender_counts, labels=gender_counts.index, autopct='%1.1f%%', colors=['skyblue', 'lightpink'], startangle=90)\n",
    "plt.title('Gender distribution of passengers', fontsize=16)\n",
    "plt.axis('equal')  # Equal aspect ratio to make the pie chart circular\n",
    "plt.show()"
   ]
  },
  {
   "cell_type": "code",
   "execution_count": null,
   "id": "0bcd67ad-595a-4d28-a44a-3103841aff22",
   "metadata": {},
   "outputs": [],
   "source": [
    "average_age_by_gender = new_df.groupby('gender')['age'].mean().astype(int)\n",
    "print(average_age_by_gender)\n"
   ]
  },
  {
   "cell_type": "code",
   "execution_count": null,
   "id": "c9eaed49-0243-4242-98d6-c882754e05a3",
   "metadata": {},
   "outputs": [],
   "source": [
    "\n",
    "# Define age bins and labels\n",
    "bins = [0, 18, 45, 60, 100]  # Modify as per your data\n",
    "labels = ['0-19', '20-45', '46-60', '61+']\n",
    "\n",
    "# Create a new column 'age_group' in the DataFrame\n",
    "new_df['age_group'] = pd.cut(new_df['age'], bins=bins, labels=labels, right=False)\n",
    "\n",
    "# Calculate the distribution of each age group\n",
    "age_group_counts = new_df['age_group'].value_counts()\n",
    "\n",
    "# Plot pie chart\n",
    "age_group_counts.plot(kind='pie', autopct='%1.1f%%', colors=['cyan', 'lightgreen', 'orange', 'yellow'])\n",
    "\n",
    "# Add title and labels\n",
    "plt.title('Age distribution of passengers')\n",
    "plt.ylabel('')  # Hides the ylabel\n",
    "plt.show()\n"
   ]
  },
  {
   "cell_type": "code",
   "execution_count": null,
   "id": "e886680e-a408-437d-b4e1-465700359e04",
   "metadata": {},
   "outputs": [],
   "source": []
  },
  {
   "cell_type": "code",
   "execution_count": null,
   "id": "9ae99709-58ff-4d13-a654-3b94a87c6df2",
   "metadata": {},
   "outputs": [],
   "source": [
    "\"\"\"You are to provide the management of the airline data analysis of the dataset \n",
    "and also provide some visual representation, \n",
    " write at least 6 python code blocks/statements to extract the required information \"\"\""
   ]
  },
  {
   "cell_type": "code",
   "execution_count": null,
   "id": "229c2e67-d299-457e-a97a-480a207be050",
   "metadata": {},
   "outputs": [],
   "source": []
  },
  {
   "cell_type": "code",
   "execution_count": null,
   "id": "d4462565-ea4a-48cc-b299-1ea5aa197bd1",
   "metadata": {},
   "outputs": [],
   "source": []
  }
 ],
 "metadata": {
  "kernelspec": {
   "display_name": "myenv_pydata",
   "language": "python",
   "name": "myenv_pydata"
  },
  "language_info": {
   "codemirror_mode": {
    "name": "ipython",
    "version": 3
   },
   "file_extension": ".py",
   "mimetype": "text/x-python",
   "name": "python",
   "nbconvert_exporter": "python",
   "pygments_lexer": "ipython3",
   "version": "3.11.9"
  }
 },
 "nbformat": 4,
 "nbformat_minor": 5
}
